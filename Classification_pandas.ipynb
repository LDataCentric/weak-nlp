{
 "cells": [
  {
   "cell_type": "code",
   "execution_count": 1,
   "id": "f0f466e1",
   "metadata": {},
   "outputs": [],
   "source": [
    "import pandas as pd"
   ]
  },
  {
   "cell_type": "code",
   "execution_count": 2,
   "id": "2cfac56b",
   "metadata": {},
   "outputs": [],
   "source": [
    "df = pd.read_json(\"sample_data/classification.json\")"
   ]
  },
  {
   "cell_type": "code",
   "execution_count": 5,
   "id": "45146203",
   "metadata": {},
   "outputs": [],
   "source": [
    "import weak_nlp\n",
    "from weak_nlp import classification\n",
    "\n",
    "\n",
    "def get_cnlm_from_df(df):\n",
    "    vectors = []\n",
    "    for source_id, df_sub_source in df.fillna(\"manual\").groupby(\"source_id\"):\n",
    "        associations = []\n",
    "        for _, row in df_sub_source.iterrows():\n",
    "            associations.append(\n",
    "                classification.ClassificationAssociation(\n",
    "                    row.record_id, row.label_id, confidence=row.confidence\n",
    "                )\n",
    "            )\n",
    "        vectors.append(\n",
    "            weak_nlp.SourceVector(source_id, source_id == \"manual\", associations)\n",
    "        )\n",
    "    return classification.CNLM(vectors)\n"
   ]
  },
  {
   "cell_type": "code",
   "execution_count": 7,
   "id": "3e207a71",
   "metadata": {},
   "outputs": [],
   "source": [
    "cnlm = get_cnlm_from_df(df)"
   ]
  },
  {
   "cell_type": "code",
   "execution_count": 8,
   "id": "5b63ae08",
   "metadata": {},
   "outputs": [
    {
     "data": {
      "text/html": [
       "<div>\n",
       "<style scoped>\n",
       "    .dataframe tbody tr th:only-of-type {\n",
       "        vertical-align: middle;\n",
       "    }\n",
       "\n",
       "    .dataframe tbody tr th {\n",
       "        vertical-align: top;\n",
       "    }\n",
       "\n",
       "    .dataframe thead th {\n",
       "        text-align: right;\n",
       "    }\n",
       "</style>\n",
       "<table border=\"1\" class=\"dataframe\">\n",
       "  <thead>\n",
       "    <tr style=\"text-align: right;\">\n",
       "      <th></th>\n",
       "      <th>identifier</th>\n",
       "      <th>label_name</th>\n",
       "      <th>record_coverage</th>\n",
       "      <th>source_conflicts</th>\n",
       "      <th>source_overlaps</th>\n",
       "    </tr>\n",
       "  </thead>\n",
       "  <tbody>\n",
       "    <tr>\n",
       "      <th>0</th>\n",
       "      <td>80db6163-6a85-47ec-aebd-a7fc1a2098c1</td>\n",
       "      <td>cb648f7f-553f-4d0b-be34-f476d2fde6bb</td>\n",
       "      <td>24</td>\n",
       "      <td>24</td>\n",
       "      <td>0</td>\n",
       "    </tr>\n",
       "    <tr>\n",
       "      <th>1</th>\n",
       "      <td>bb26334c-ed93-43d0-b603-ed13e295c936</td>\n",
       "      <td>50bbb411-d173-4c68-91bb-512023536e2d</td>\n",
       "      <td>100</td>\n",
       "      <td>24</td>\n",
       "      <td>0</td>\n",
       "    </tr>\n",
       "  </tbody>\n",
       "</table>\n",
       "</div>"
      ],
      "text/plain": [
       "                             identifier                            label_name  \\\n",
       "0  80db6163-6a85-47ec-aebd-a7fc1a2098c1  cb648f7f-553f-4d0b-be34-f476d2fde6bb   \n",
       "1  bb26334c-ed93-43d0-b603-ed13e295c936  50bbb411-d173-4c68-91bb-512023536e2d   \n",
       "\n",
       "   record_coverage  source_conflicts  source_overlaps  \n",
       "0               24                24                0  \n",
       "1              100                24                0  "
      ]
     },
     "execution_count": 8,
     "metadata": {},
     "output_type": "execute_result"
    }
   ],
   "source": [
    "cnlm.quantity_metrics()"
   ]
  },
  {
   "cell_type": "code",
   "execution_count": 9,
   "id": "113abc88",
   "metadata": {},
   "outputs": [
    {
     "data": {
      "text/html": [
       "<div>\n",
       "<style scoped>\n",
       "    .dataframe tbody tr th:only-of-type {\n",
       "        vertical-align: middle;\n",
       "    }\n",
       "\n",
       "    .dataframe tbody tr th {\n",
       "        vertical-align: top;\n",
       "    }\n",
       "\n",
       "    .dataframe thead th {\n",
       "        text-align: right;\n",
       "    }\n",
       "</style>\n",
       "<table border=\"1\" class=\"dataframe\">\n",
       "  <thead>\n",
       "    <tr style=\"text-align: right;\">\n",
       "      <th></th>\n",
       "      <th>identifier</th>\n",
       "      <th>label_name</th>\n",
       "      <th>true_positives</th>\n",
       "      <th>false_positives</th>\n",
       "      <th>precision</th>\n",
       "    </tr>\n",
       "  </thead>\n",
       "  <tbody>\n",
       "    <tr>\n",
       "      <th>0</th>\n",
       "      <td>80db6163-6a85-47ec-aebd-a7fc1a2098c1</td>\n",
       "      <td>cb648f7f-553f-4d0b-be34-f476d2fde6bb</td>\n",
       "      <td>3</td>\n",
       "      <td>2</td>\n",
       "      <td>0.600000</td>\n",
       "    </tr>\n",
       "    <tr>\n",
       "      <th>1</th>\n",
       "      <td>80db6163-6a85-47ec-aebd-a7fc1a2098c1</td>\n",
       "      <td>50bbb411-d173-4c68-91bb-512023536e2d</td>\n",
       "      <td>0</td>\n",
       "      <td>0</td>\n",
       "      <td>0.000000</td>\n",
       "    </tr>\n",
       "    <tr>\n",
       "      <th>2</th>\n",
       "      <td>bb26334c-ed93-43d0-b603-ed13e295c936</td>\n",
       "      <td>50bbb411-d173-4c68-91bb-512023536e2d</td>\n",
       "      <td>11</td>\n",
       "      <td>7</td>\n",
       "      <td>0.611111</td>\n",
       "    </tr>\n",
       "    <tr>\n",
       "      <th>3</th>\n",
       "      <td>bb26334c-ed93-43d0-b603-ed13e295c936</td>\n",
       "      <td>cb648f7f-553f-4d0b-be34-f476d2fde6bb</td>\n",
       "      <td>0</td>\n",
       "      <td>0</td>\n",
       "      <td>0.000000</td>\n",
       "    </tr>\n",
       "  </tbody>\n",
       "</table>\n",
       "</div>"
      ],
      "text/plain": [
       "                             identifier                            label_name  \\\n",
       "0  80db6163-6a85-47ec-aebd-a7fc1a2098c1  cb648f7f-553f-4d0b-be34-f476d2fde6bb   \n",
       "1  80db6163-6a85-47ec-aebd-a7fc1a2098c1  50bbb411-d173-4c68-91bb-512023536e2d   \n",
       "2  bb26334c-ed93-43d0-b603-ed13e295c936  50bbb411-d173-4c68-91bb-512023536e2d   \n",
       "3  bb26334c-ed93-43d0-b603-ed13e295c936  cb648f7f-553f-4d0b-be34-f476d2fde6bb   \n",
       "\n",
       "   true_positives  false_positives  precision  \n",
       "0               3                2   0.600000  \n",
       "1               0                0   0.000000  \n",
       "2              11                7   0.611111  \n",
       "3               0                0   0.000000  "
      ]
     },
     "execution_count": 9,
     "metadata": {},
     "output_type": "execute_result"
    }
   ],
   "source": [
    "cnlm.quality_metrics()"
   ]
  },
  {
   "cell_type": "code",
   "execution_count": null,
   "id": "187f759d",
   "metadata": {},
   "outputs": [],
   "source": [
    "stats = {}\n",
    "for source_id, quality_df_sub_source in quality_df.groupby(\"identifier\"):\n",
    "    stats[source_id] = {}\n",
    "    for label_id, quality_df_sub_source_label in quality_df_sub_source.groupby(\"label_name\"):\n",
    "        row = quality_df_sub_source_label.iloc[0]\n",
    "        stats[source_id][label_id] = {\n",
    "            \"true_positives\": row[\"true_positives\"],\n",
    "            \"false_positives\": row[\"false_positives\"],\n",
    "            \"false_negatives\": 0\n",
    "        }\n",
    "stats"
   ]
  },
  {
   "cell_type": "code",
   "execution_count": null,
   "id": "dd8bf047",
   "metadata": {},
   "outputs": [],
   "source": []
  }
 ],
 "metadata": {
  "kernelspec": {
   "display_name": "Python 3 (ipykernel)",
   "language": "python",
   "name": "python3"
  },
  "language_info": {
   "codemirror_mode": {
    "name": "ipython",
    "version": 3
   },
   "file_extension": ".py",
   "mimetype": "text/x-python",
   "name": "python",
   "nbconvert_exporter": "python",
   "pygments_lexer": "ipython3",
   "version": "3.9.7"
  }
 },
 "nbformat": 4,
 "nbformat_minor": 5
}
