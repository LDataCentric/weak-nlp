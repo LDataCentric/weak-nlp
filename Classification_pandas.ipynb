{
 "cells": [
  {
   "cell_type": "code",
   "execution_count": 1,
   "id": "f0f466e1",
   "metadata": {},
   "outputs": [],
   "source": [
    "import pandas as pd"
   ]
  },
  {
   "cell_type": "code",
   "execution_count": 2,
   "id": "2cfac56b",
   "metadata": {},
   "outputs": [],
   "source": [
    "df = pd.read_json(\"sample_data/classification.json\")"
   ]
  },
  {
   "cell_type": "code",
   "execution_count": 3,
   "id": "45146203",
   "metadata": {},
   "outputs": [],
   "source": [
    "import weak_nlp\n",
    "from weak_nlp import classification\n",
    "\n",
    "\n",
    "def get_cnlm_from_df(df):\n",
    "    vectors = []\n",
    "    for source_id, df_sub_source in df.fillna(\"manual\").groupby(\"source_id\"):\n",
    "        associations = []\n",
    "        for _, row in df_sub_source.iterrows():\n",
    "            associations.append(\n",
    "                classification.ClassificationAssociation(\n",
    "                    row.record_id, row.label_id, confidence=row.confidence\n",
    "                )\n",
    "            )\n",
    "        vectors.append(\n",
    "            weak_nlp.SourceVector(source_id, source_id == \"manual\", associations)\n",
    "        )\n",
    "    return classification.CNLM(vectors)\n"
   ]
  },
  {
   "cell_type": "code",
   "execution_count": 4,
   "id": "3e207a71",
   "metadata": {},
   "outputs": [],
   "source": [
    "cnlm = get_cnlm_from_df(df)"
   ]
  },
  {
   "cell_type": "code",
   "execution_count": 5,
   "id": "5b63ae08",
   "metadata": {},
   "outputs": [
    {
     "data": {
      "text/html": [
       "<div>\n",
       "<style scoped>\n",
       "    .dataframe tbody tr th:only-of-type {\n",
       "        vertical-align: middle;\n",
       "    }\n",
       "\n",
       "    .dataframe tbody tr th {\n",
       "        vertical-align: top;\n",
       "    }\n",
       "\n",
       "    .dataframe thead th {\n",
       "        text-align: right;\n",
       "    }\n",
       "</style>\n",
       "<table border=\"1\" class=\"dataframe\">\n",
       "  <thead>\n",
       "    <tr style=\"text-align: right;\">\n",
       "      <th></th>\n",
       "      <th>identifier</th>\n",
       "      <th>label_name</th>\n",
       "      <th>record_coverage</th>\n",
       "      <th>source_conflicts</th>\n",
       "      <th>source_overlaps</th>\n",
       "    </tr>\n",
       "  </thead>\n",
       "  <tbody>\n",
       "    <tr>\n",
       "      <th>0</th>\n",
       "      <td>639f5911-d25b-4bbb-b304-787982003205</td>\n",
       "      <td>3f0d2784-8ee6-4290-9b00-5275a22a1f01</td>\n",
       "      <td>100</td>\n",
       "      <td>24</td>\n",
       "      <td>0</td>\n",
       "    </tr>\n",
       "    <tr>\n",
       "      <th>1</th>\n",
       "      <td>86ba09ae-316a-4552-bff6-0f8748882568</td>\n",
       "      <td>245c4d5e-0f67-4a2c-a857-0614cda7f8a3</td>\n",
       "      <td>24</td>\n",
       "      <td>24</td>\n",
       "      <td>0</td>\n",
       "    </tr>\n",
       "  </tbody>\n",
       "</table>\n",
       "</div>"
      ],
      "text/plain": [
       "                             identifier                            label_name  \\\n",
       "0  639f5911-d25b-4bbb-b304-787982003205  3f0d2784-8ee6-4290-9b00-5275a22a1f01   \n",
       "1  86ba09ae-316a-4552-bff6-0f8748882568  245c4d5e-0f67-4a2c-a857-0614cda7f8a3   \n",
       "\n",
       "   record_coverage  source_conflicts  source_overlaps  \n",
       "0              100                24                0  \n",
       "1               24                24                0  "
      ]
     },
     "execution_count": 5,
     "metadata": {},
     "output_type": "execute_result"
    }
   ],
   "source": [
    "cnlm.quantity_metrics()"
   ]
  },
  {
   "cell_type": "code",
   "execution_count": 6,
   "id": "113abc88",
   "metadata": {},
   "outputs": [
    {
     "data": {
      "text/html": [
       "<div>\n",
       "<style scoped>\n",
       "    .dataframe tbody tr th:only-of-type {\n",
       "        vertical-align: middle;\n",
       "    }\n",
       "\n",
       "    .dataframe tbody tr th {\n",
       "        vertical-align: top;\n",
       "    }\n",
       "\n",
       "    .dataframe thead th {\n",
       "        text-align: right;\n",
       "    }\n",
       "</style>\n",
       "<table border=\"1\" class=\"dataframe\">\n",
       "  <thead>\n",
       "    <tr style=\"text-align: right;\">\n",
       "      <th></th>\n",
       "      <th>identifier</th>\n",
       "      <th>label_name</th>\n",
       "      <th>true_positives</th>\n",
       "      <th>false_positives</th>\n",
       "      <th>precision</th>\n",
       "    </tr>\n",
       "  </thead>\n",
       "  <tbody>\n",
       "    <tr>\n",
       "      <th>0</th>\n",
       "      <td>639f5911-d25b-4bbb-b304-787982003205</td>\n",
       "      <td>3f0d2784-8ee6-4290-9b00-5275a22a1f01</td>\n",
       "      <td>5</td>\n",
       "      <td>3</td>\n",
       "      <td>0.625</td>\n",
       "    </tr>\n",
       "    <tr>\n",
       "      <th>1</th>\n",
       "      <td>639f5911-d25b-4bbb-b304-787982003205</td>\n",
       "      <td>245c4d5e-0f67-4a2c-a857-0614cda7f8a3</td>\n",
       "      <td>0</td>\n",
       "      <td>0</td>\n",
       "      <td>0.000</td>\n",
       "    </tr>\n",
       "    <tr>\n",
       "      <th>2</th>\n",
       "      <td>86ba09ae-316a-4552-bff6-0f8748882568</td>\n",
       "      <td>245c4d5e-0f67-4a2c-a857-0614cda7f8a3</td>\n",
       "      <td>2</td>\n",
       "      <td>0</td>\n",
       "      <td>1.000</td>\n",
       "    </tr>\n",
       "    <tr>\n",
       "      <th>3</th>\n",
       "      <td>86ba09ae-316a-4552-bff6-0f8748882568</td>\n",
       "      <td>3f0d2784-8ee6-4290-9b00-5275a22a1f01</td>\n",
       "      <td>0</td>\n",
       "      <td>0</td>\n",
       "      <td>0.000</td>\n",
       "    </tr>\n",
       "  </tbody>\n",
       "</table>\n",
       "</div>"
      ],
      "text/plain": [
       "                             identifier                            label_name  \\\n",
       "0  639f5911-d25b-4bbb-b304-787982003205  3f0d2784-8ee6-4290-9b00-5275a22a1f01   \n",
       "1  639f5911-d25b-4bbb-b304-787982003205  245c4d5e-0f67-4a2c-a857-0614cda7f8a3   \n",
       "2  86ba09ae-316a-4552-bff6-0f8748882568  245c4d5e-0f67-4a2c-a857-0614cda7f8a3   \n",
       "3  86ba09ae-316a-4552-bff6-0f8748882568  3f0d2784-8ee6-4290-9b00-5275a22a1f01   \n",
       "\n",
       "   true_positives  false_positives  precision  \n",
       "0               5                3      0.625  \n",
       "1               0                0      0.000  \n",
       "2               2                0      1.000  \n",
       "3               0                0      0.000  "
      ]
     },
     "execution_count": 6,
     "metadata": {},
     "output_type": "execute_result"
    }
   ],
   "source": [
    "cnlm.quality_metrics()"
   ]
  }
 ],
 "metadata": {
  "kernelspec": {
   "display_name": "Python 3 (ipykernel)",
   "language": "python",
   "name": "python3"
  },
  "language_info": {
   "codemirror_mode": {
    "name": "ipython",
    "version": 3
   },
   "file_extension": ".py",
   "mimetype": "text/x-python",
   "name": "python",
   "nbconvert_exporter": "python",
   "pygments_lexer": "ipython3",
   "version": "3.9.7"
  }
 },
 "nbformat": 4,
 "nbformat_minor": 5
}
