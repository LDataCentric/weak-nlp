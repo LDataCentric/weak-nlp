{
 "cells": [
  {
   "cell_type": "code",
   "execution_count": 1,
   "id": "8aae4efd",
   "metadata": {},
   "outputs": [],
   "source": [
    "import pandas as pd"
   ]
  },
  {
   "cell_type": "code",
   "execution_count": 2,
   "id": "fd5f208d",
   "metadata": {},
   "outputs": [],
   "source": [
    "df = pd.read_json(\"sample_data/extraction.json\")"
   ]
  },
  {
   "cell_type": "code",
   "execution_count": 3,
   "id": "64e52281",
   "metadata": {},
   "outputs": [],
   "source": [
    "import weak_nlp\n",
    "from weak_nlp import extraction\n",
    "\n",
    "\n",
    "def get_enlm_from_df(df):\n",
    "    vectors = []\n",
    "    for source_id, df_sub_source in df.fillna(\"manual\").groupby(\"source_id\"):\n",
    "        associations = []\n",
    "        for (record_id, label_id), df_sub_source_record_label in df_sub_source.groupby(\n",
    "            [\"record_id\", \"label_id\"]\n",
    "        ):\n",
    "            max_token = max(df_sub_source_record_label.token_index)\n",
    "            min_token = min(df_sub_source_record_label.token_index)\n",
    "            confidence = df_sub_source_record_label.confidence.iloc[0]\n",
    "            associations.append(\n",
    "                extraction.ExtractionAssociation(\n",
    "                    record_id,\n",
    "                    label_id,\n",
    "                    min_token,\n",
    "                    max_token,\n",
    "                    confidence=confidence,\n",
    "                )\n",
    "            )\n",
    "        vectors.append(\n",
    "            weak_nlp.SourceVector(source_id, source_id == \"manual\", associations)\n",
    "        )\n",
    "\n",
    "    return extraction.ENLM(vectors)"
   ]
  },
  {
   "cell_type": "code",
   "execution_count": 4,
   "id": "ca993cb2",
   "metadata": {},
   "outputs": [],
   "source": [
    "enlm = get_enlm_from_df(df)"
   ]
  },
  {
   "cell_type": "code",
   "execution_count": 5,
   "id": "1ead0552",
   "metadata": {},
   "outputs": [
    {
     "data": {
      "text/html": [
       "<div>\n",
       "<style scoped>\n",
       "    .dataframe tbody tr th:only-of-type {\n",
       "        vertical-align: middle;\n",
       "    }\n",
       "\n",
       "    .dataframe tbody tr th {\n",
       "        vertical-align: top;\n",
       "    }\n",
       "\n",
       "    .dataframe thead th {\n",
       "        text-align: right;\n",
       "    }\n",
       "</style>\n",
       "<table border=\"1\" class=\"dataframe\">\n",
       "  <thead>\n",
       "    <tr style=\"text-align: right;\">\n",
       "      <th></th>\n",
       "      <th>record</th>\n",
       "      <th>label</th>\n",
       "      <th>confidence</th>\n",
       "      <th>chunk_idx_start</th>\n",
       "      <th>chunk_idx_end</th>\n",
       "    </tr>\n",
       "  </thead>\n",
       "  <tbody>\n",
       "    <tr>\n",
       "      <th>0</th>\n",
       "      <td>6a7e90b0-5eca-43ad-8233-0949f5beb958</td>\n",
       "      <td>9ef20315-7cda-4565-9892-074bcf6ccdbb</td>\n",
       "      <td>manual</td>\n",
       "      <td>0</td>\n",
       "      <td>0</td>\n",
       "    </tr>\n",
       "  </tbody>\n",
       "</table>\n",
       "</div>"
      ],
      "text/plain": [
       "                                 record                                 label  \\\n",
       "0  6a7e90b0-5eca-43ad-8233-0949f5beb958  9ef20315-7cda-4565-9892-074bcf6ccdbb   \n",
       "\n",
       "  confidence  chunk_idx_start  chunk_idx_end  \n",
       "0     manual                0              0  "
      ]
     },
     "execution_count": 5,
     "metadata": {},
     "output_type": "execute_result"
    }
   ],
   "source": [
    "enlm.vector_reference.associations"
   ]
  },
  {
   "cell_type": "code",
   "execution_count": 6,
   "id": "60bcfbac",
   "metadata": {},
   "outputs": [
    {
     "data": {
      "text/html": [
       "<div>\n",
       "<style scoped>\n",
       "    .dataframe tbody tr th:only-of-type {\n",
       "        vertical-align: middle;\n",
       "    }\n",
       "\n",
       "    .dataframe tbody tr th {\n",
       "        vertical-align: top;\n",
       "    }\n",
       "\n",
       "    .dataframe thead th {\n",
       "        text-align: right;\n",
       "    }\n",
       "</style>\n",
       "<table border=\"1\" class=\"dataframe\">\n",
       "  <thead>\n",
       "    <tr style=\"text-align: right;\">\n",
       "      <th></th>\n",
       "      <th>identifier</th>\n",
       "      <th>label_name</th>\n",
       "      <th>record_coverage</th>\n",
       "      <th>total_hits</th>\n",
       "      <th>source_conflicts</th>\n",
       "      <th>source_overlaps</th>\n",
       "    </tr>\n",
       "  </thead>\n",
       "  <tbody>\n",
       "    <tr>\n",
       "      <th>0</th>\n",
       "      <td>64212588-59a7-4129-8fe4-c77dd7ca3a0c</td>\n",
       "      <td>9ef20315-7cda-4565-9892-074bcf6ccdbb</td>\n",
       "      <td>4</td>\n",
       "      <td>4</td>\n",
       "      <td>4</td>\n",
       "      <td>0</td>\n",
       "    </tr>\n",
       "    <tr>\n",
       "      <th>1</th>\n",
       "      <td>7ab2d211-2477-4a15-b992-3e07e41d9637</td>\n",
       "      <td>b3bc47b1-604d-48f3-ac48-608901aebe06</td>\n",
       "      <td>4</td>\n",
       "      <td>4</td>\n",
       "      <td>4</td>\n",
       "      <td>0</td>\n",
       "    </tr>\n",
       "  </tbody>\n",
       "</table>\n",
       "</div>"
      ],
      "text/plain": [
       "                             identifier                            label_name  \\\n",
       "0  64212588-59a7-4129-8fe4-c77dd7ca3a0c  9ef20315-7cda-4565-9892-074bcf6ccdbb   \n",
       "1  7ab2d211-2477-4a15-b992-3e07e41d9637  b3bc47b1-604d-48f3-ac48-608901aebe06   \n",
       "\n",
       "   record_coverage  total_hits  source_conflicts  source_overlaps  \n",
       "0                4           4                 4                0  \n",
       "1                4           4                 4                0  "
      ]
     },
     "execution_count": 6,
     "metadata": {},
     "output_type": "execute_result"
    }
   ],
   "source": [
    "enlm.quantity_metrics()"
   ]
  },
  {
   "cell_type": "code",
   "execution_count": 7,
   "id": "3be6b90c",
   "metadata": {},
   "outputs": [
    {
     "data": {
      "text/html": [
       "<div>\n",
       "<style scoped>\n",
       "    .dataframe tbody tr th:only-of-type {\n",
       "        vertical-align: middle;\n",
       "    }\n",
       "\n",
       "    .dataframe tbody tr th {\n",
       "        vertical-align: top;\n",
       "    }\n",
       "\n",
       "    .dataframe thead th {\n",
       "        text-align: right;\n",
       "    }\n",
       "</style>\n",
       "<table border=\"1\" class=\"dataframe\">\n",
       "  <thead>\n",
       "    <tr style=\"text-align: right;\">\n",
       "      <th></th>\n",
       "      <th>identifier</th>\n",
       "      <th>label_name</th>\n",
       "      <th>true_positives</th>\n",
       "      <th>false_positives</th>\n",
       "      <th>false_negatives</th>\n",
       "      <th>precision</th>\n",
       "      <th>recall</th>\n",
       "    </tr>\n",
       "  </thead>\n",
       "  <tbody>\n",
       "    <tr>\n",
       "      <th>0</th>\n",
       "      <td>64212588-59a7-4129-8fe4-c77dd7ca3a0c</td>\n",
       "      <td>9ef20315-7cda-4565-9892-074bcf6ccdbb</td>\n",
       "      <td>0</td>\n",
       "      <td>0</td>\n",
       "      <td>1</td>\n",
       "      <td>0.0</td>\n",
       "      <td>0.0</td>\n",
       "    </tr>\n",
       "    <tr>\n",
       "      <th>1</th>\n",
       "      <td>7ab2d211-2477-4a15-b992-3e07e41d9637</td>\n",
       "      <td>b3bc47b1-604d-48f3-ac48-608901aebe06</td>\n",
       "      <td>0</td>\n",
       "      <td>0</td>\n",
       "      <td>0</td>\n",
       "      <td>0.0</td>\n",
       "      <td>0.0</td>\n",
       "    </tr>\n",
       "    <tr>\n",
       "      <th>2</th>\n",
       "      <td>7ab2d211-2477-4a15-b992-3e07e41d9637</td>\n",
       "      <td>9ef20315-7cda-4565-9892-074bcf6ccdbb</td>\n",
       "      <td>0</td>\n",
       "      <td>0</td>\n",
       "      <td>1</td>\n",
       "      <td>0.0</td>\n",
       "      <td>0.0</td>\n",
       "    </tr>\n",
       "  </tbody>\n",
       "</table>\n",
       "</div>"
      ],
      "text/plain": [
       "                             identifier                            label_name  \\\n",
       "0  64212588-59a7-4129-8fe4-c77dd7ca3a0c  9ef20315-7cda-4565-9892-074bcf6ccdbb   \n",
       "1  7ab2d211-2477-4a15-b992-3e07e41d9637  b3bc47b1-604d-48f3-ac48-608901aebe06   \n",
       "2  7ab2d211-2477-4a15-b992-3e07e41d9637  9ef20315-7cda-4565-9892-074bcf6ccdbb   \n",
       "\n",
       "   true_positives  false_positives  false_negatives  precision  recall  \n",
       "0               0                0                1        0.0     0.0  \n",
       "1               0                0                0        0.0     0.0  \n",
       "2               0                0                1        0.0     0.0  "
      ]
     },
     "execution_count": 7,
     "metadata": {},
     "output_type": "execute_result"
    }
   ],
   "source": [
    "enlm.quality_metrics()"
   ]
  },
  {
   "cell_type": "code",
   "execution_count": 8,
   "id": "1ac84004",
   "metadata": {},
   "outputs": [
    {
     "name": "stdout",
     "output_type": "stream",
     "text": [
      "X\n",
      "X\n",
      "X\n",
      "X\n"
     ]
    },
    {
     "data": {
      "text/plain": [
       "record\n",
       "88eb8f2a-f8e9-4f36-84b3-131c12e682ca    []\n",
       "6a7e90b0-5eca-43ad-8233-0949f5beb958    []\n",
       "20fad4c8-4a8b-4e44-8e39-79f13115e473    []\n",
       "dd0534d6-02d5-459e-9f9d-826ccc630a83    []\n",
       "bac9b22e-75ab-493b-ad5a-1765e7074a1c    []\n",
       "dtype: object"
      ]
     },
     "execution_count": 8,
     "metadata": {},
     "output_type": "execute_result"
    }
   ],
   "source": [
    "enlm.weakly_supervise()"
   ]
  }
 ],
 "metadata": {
  "kernelspec": {
   "display_name": "Python 3 (ipykernel)",
   "language": "python",
   "name": "python3"
  },
  "language_info": {
   "codemirror_mode": {
    "name": "ipython",
    "version": 3
   },
   "file_extension": ".py",
   "mimetype": "text/x-python",
   "name": "python",
   "nbconvert_exporter": "python",
   "pygments_lexer": "ipython3",
   "version": "3.9.7"
  }
 },
 "nbformat": 4,
 "nbformat_minor": 5
}
