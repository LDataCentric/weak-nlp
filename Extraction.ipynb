{
 "cells": [
  {
   "cell_type": "code",
   "execution_count": null,
   "id": "3d1d250e",
   "metadata": {},
   "outputs": [],
   "source": [
    "import weak_nlp\n",
    "from weak_nlp.extraction import *"
   ]
  },
  {
   "cell_type": "code",
   "execution_count": null,
   "id": "8bc64c5c",
   "metadata": {},
   "outputs": [],
   "source": [
    "associations0 = [\n",
    "    ExtractionAssociation(\"r_1\", \"l_1\", 1, 2), # conflict, overlap, overlap\n",
    "    ExtractionAssociation(\"r_1\", \"l_1\", 3, 4), # conflict\n",
    "    ExtractionAssociation(\"r_2\", \"l_1\", 2, 3), # overlap\n",
    "    ExtractionAssociation(\"r_2\", \"l_1\", 4, 5), # conflict\n",
    "    ExtractionAssociation(\"r_2\", \"l_2\", 6, 7), # conflict\n",
    "]\n",
    "\n",
    "associations1 = [\n",
    "    ExtractionAssociation(\"r_1\", \"l_2\", 1, 3),\n",
    "    ExtractionAssociation(\"r_1\", \"l_1\", 2, 3),\n",
    "]\n",
    "\n",
    "associations2 = [\n",
    "    ExtractionAssociation(\"r_1\", \"l_1\", 1, 2),\n",
    "    ExtractionAssociation(\"r_1\", \"l_2\", 4, 6),\n",
    "    ExtractionAssociation(\"r_2\", \"l_1\", 7, 8),\n",
    "]"
   ]
  },
  {
   "cell_type": "code",
   "execution_count": null,
   "id": "1c7e17af",
   "metadata": {},
   "outputs": [],
   "source": [
    "vector0 = weak_nlp.SourceVector(\"my_lf_0\", False, associations0)\n",
    "vector1 = weak_nlp.SourceVector(\"my_lf_1\", False, associations1)\n",
    "vector2 = weak_nlp.SourceVector(\"manual\", True, associations2)"
   ]
  },
  {
   "cell_type": "code",
   "execution_count": null,
   "id": "ca993cb2",
   "metadata": {},
   "outputs": [],
   "source": [
    "enlm = ENLM([vector0, vector1, vector2])"
   ]
  },
  {
   "cell_type": "code",
   "execution_count": null,
   "id": "3be6b90c",
   "metadata": {},
   "outputs": [],
   "source": [
    "enlm.quality_metrics()"
   ]
  },
  {
   "cell_type": "code",
   "execution_count": null,
   "id": "1ac84004",
   "metadata": {},
   "outputs": [],
   "source": [
    "enlm.weakly_supervise()"
   ]
  }
 ],
 "metadata": {
  "kernelspec": {
   "display_name": "Python 3 (ipykernel)",
   "language": "python",
   "name": "python3"
  },
  "language_info": {
   "codemirror_mode": {
    "name": "ipython",
    "version": 3
   },
   "file_extension": ".py",
   "mimetype": "text/x-python",
   "name": "python",
   "nbconvert_exporter": "python",
   "pygments_lexer": "ipython3",
   "version": "3.10.4"
  }
 },
 "nbformat": 4,
 "nbformat_minor": 5
}
