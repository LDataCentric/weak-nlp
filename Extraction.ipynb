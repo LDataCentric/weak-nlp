{
 "cells": [
  {
   "cell_type": "code",
   "execution_count": null,
   "id": "3d1d250e",
   "metadata": {},
   "outputs": [],
   "source": [
    "import weak_nlp"
   ]
  },
  {
   "cell_type": "code",
   "execution_count": null,
   "id": "8bc64c5c",
   "metadata": {},
   "outputs": [],
   "source": [
    "class ExtractionAssociation(weak_nlp.Association):\n",
    "    \n",
    "    def __init__(self, record, label, chunk_idx_start, chunk_idx_end, confidence=1):\n",
    "        super().__init__(record, label, confidence)\n",
    "        self.chunk_idx_start = chunk_idx_start\n",
    "        self.chunk_idx_end = chunk_idx_end\n",
    "        \n",
    "associations1 = [\n",
    "    ExtractionAssociation(\"r_1\", \"l_1\", 1, 2),\n",
    "    ExtractionAssociation(\"r_1\", \"l_1\", 2, 3),\n",
    "]\n",
    "\n",
    "associations2 = [\n",
    "    ExtractionAssociation(\"r_1\", \"l_1\", 1, 2),\n",
    "]"
   ]
  },
  {
   "cell_type": "code",
   "execution_count": null,
   "id": "1c7e17af",
   "metadata": {},
   "outputs": [],
   "source": [
    "vector1 = weak_nlp.SourceVector(\"my_lf\", False, associations1)\n",
    "vector2 = weak_nlp.SourceVector(\"manual\", True, associations2)"
   ]
  },
  {
   "cell_type": "code",
   "execution_count": null,
   "id": "e882cd60",
   "metadata": {},
   "outputs": [],
   "source": [
    "class ENLM(weak_nlp.NoisyLabelMatrix):\n",
    "    def __init__(self, vectors, calc_quality=True, calc_quantity=True):\n",
    "        super().__init__(vectors)\n",
    "        \n",
    "enlm = ENLM([vector1, vector2])"
   ]
  },
  {
   "cell_type": "code",
   "execution_count": null,
   "id": "c4f6961e",
   "metadata": {},
   "outputs": [],
   "source": [
    "enlm.vector_reference"
   ]
  },
  {
   "cell_type": "code",
   "execution_count": null,
   "id": "bddb35f1",
   "metadata": {},
   "outputs": [],
   "source": [
    "import numpy as np\n",
    "df[\"merge_with\"] = np.empty((len(df), 0)).tolist()"
   ]
  },
  {
   "cell_type": "code",
   "execution_count": null,
   "id": "608fa8f0",
   "metadata": {},
   "outputs": [],
   "source": [
    "for record, record_df in df.groupby(\"record\"):\n",
    "    break"
   ]
  }
 ],
 "metadata": {
  "kernelspec": {
   "display_name": "Python 3 (ipykernel)",
   "language": "python",
   "name": "python3"
  },
  "language_info": {
   "codemirror_mode": {
    "name": "ipython",
    "version": 3
   },
   "file_extension": ".py",
   "mimetype": "text/x-python",
   "name": "python",
   "nbconvert_exporter": "python",
   "pygments_lexer": "ipython3",
   "version": "3.9.7"
  }
 },
 "nbformat": 4,
 "nbformat_minor": 5
}
