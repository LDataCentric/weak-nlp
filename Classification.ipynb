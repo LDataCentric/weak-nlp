{
 "cells": [
  {
   "cell_type": "code",
   "execution_count": null,
   "id": "69ebee61",
   "metadata": {},
   "outputs": [],
   "source": [
    "import pandas as pd\n",
    "from weak_nlp.classification.util import cnlm_from_df"
   ]
  },
  {
   "cell_type": "code",
   "execution_count": null,
   "id": "4312c762",
   "metadata": {},
   "outputs": [],
   "source": [
    "df = pd.read_json(\"clickbait_data.json\")"
   ]
  },
  {
   "cell_type": "code",
   "execution_count": null,
   "id": "a6d14bdc",
   "metadata": {},
   "outputs": [],
   "source": [
    "import re\n",
    "\n",
    "def fn_starts_with_digit(record):\n",
    "    if re.match(\"^[0-1]+\", record[\"headline\"]):\n",
    "        return \"clickbait\"\n",
    "    if re.match(\"^[2-9]+\", record[\"headline\"]):\n",
    "        return \"regular\"\n",
    "    \n",
    "    \n",
    "def fn_contains_that(record):\n",
    "    if \"that\" in record[\"headline\"].lower():\n",
    "        return \"clickbait\"\n",
    "    \n",
    "def fn_something(record):\n",
    "    if \"x\" in record[\"headline\"].lower():\n",
    "        return \"clickbait\"\n",
    "\n",
    "lfs = [fn_starts_with_digit, fn_contains_that, fn_something]\n",
    "for lf in lfs:\n",
    "    df[lf.__name__] = df.apply(lf, axis=1)"
   ]
  },
  {
   "cell_type": "code",
   "execution_count": null,
   "id": "9b19b139",
   "metadata": {},
   "outputs": [],
   "source": [
    "cnlm = cnlm_from_df(df, lfs, \"label\")"
   ]
  },
  {
   "cell_type": "code",
   "execution_count": null,
   "id": "071e9332",
   "metadata": {},
   "outputs": [],
   "source": [
    "stats_df = cnlm.get_stats_df()"
   ]
  },
  {
   "cell_type": "code",
   "execution_count": null,
   "id": "4f4709fe",
   "metadata": {},
   "outputs": [],
   "source": [
    "stats_df"
   ]
  },
  {
   "cell_type": "code",
   "execution_count": null,
   "id": "0a822db9",
   "metadata": {},
   "outputs": [],
   "source": [
    "cnlm_df = cnlm.get_inference_df()"
   ]
  },
  {
   "cell_type": "code",
   "execution_count": null,
   "id": "efe0fb68",
   "metadata": {},
   "outputs": [],
   "source": [
    "cnlm.weakly_supervise()"
   ]
  }
 ],
 "metadata": {
  "kernelspec": {
   "display_name": "Python 3 (ipykernel)",
   "language": "python",
   "name": "python3"
  },
  "language_info": {
   "codemirror_mode": {
    "name": "ipython",
    "version": 3
   },
   "file_extension": ".py",
   "mimetype": "text/x-python",
   "name": "python",
   "nbconvert_exporter": "python",
   "pygments_lexer": "ipython3",
   "version": "3.9.7"
  }
 },
 "nbformat": 4,
 "nbformat_minor": 5
}
