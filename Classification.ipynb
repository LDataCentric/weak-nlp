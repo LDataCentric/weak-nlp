{
 "cells": [
  {
   "cell_type": "code",
   "execution_count": 1,
   "id": "69ebee61",
   "metadata": {},
   "outputs": [],
   "source": [
    "import pandas as pd\n",
    "from weak_nlp.classification.util import get_cnlm_from_df\n",
    "from weak_nlp.classification import CNLM"
   ]
  },
  {
   "cell_type": "code",
   "execution_count": 2,
   "id": "b94b475b",
   "metadata": {},
   "outputs": [],
   "source": [
    "df = pd.read_json(\"clickbait_data.json\")"
   ]
  },
  {
   "cell_type": "code",
   "execution_count": 8,
   "id": "9b079966",
   "metadata": {},
   "outputs": [],
   "source": [
    "import re\n",
    "\n",
    "def fn_starts_with_digit(record):\n",
    "    if re.match(\"^[0-1]+\", record[\"headline\"]):\n",
    "        return \"p\"\n",
    "    if re.match(\"^[2-9]+\", record[\"headline\"]):\n",
    "        return \"clickbait\"\n",
    "    \n",
    "    \n",
    "def leo(record):\n",
    "    return\n",
    "    if \"leonardo\" in record[\"headline\"].lower():\n",
    "        pass\n",
    "    \n",
    "def fn_something(record):\n",
    "    return\n",
    "    if \"x\" in record[\"headline\"].lower():\n",
    "        return \"y\"\n",
    "\n",
    "lfs = [fn_starts_with_digit, leo, fn_something]\n",
    "for lf in lfs:\n",
    "    df[lf.__name__] = df.apply(lf, axis=1)"
   ]
  },
  {
   "cell_type": "code",
   "execution_count": 9,
   "id": "62e3b770",
   "metadata": {},
   "outputs": [],
   "source": [
    "cnlm = get_cnlm_from_df(df, lfs, \"label\")"
   ]
  },
  {
   "cell_type": "code",
   "execution_count": 10,
   "id": "3eb7e69a",
   "metadata": {},
   "outputs": [
    {
     "data": {
      "text/html": [
       "<div>\n",
       "<style scoped>\n",
       "    .dataframe tbody tr th:only-of-type {\n",
       "        vertical-align: middle;\n",
       "    }\n",
       "\n",
       "    .dataframe tbody tr th {\n",
       "        vertical-align: top;\n",
       "    }\n",
       "\n",
       "    .dataframe thead th {\n",
       "        text-align: right;\n",
       "    }\n",
       "</style>\n",
       "<table border=\"1\" class=\"dataframe\">\n",
       "  <thead>\n",
       "    <tr style=\"text-align: right;\">\n",
       "      <th></th>\n",
       "      <th>identifier</th>\n",
       "      <th>label_name</th>\n",
       "      <th>record_coverage</th>\n",
       "      <th>source_conflicts</th>\n",
       "      <th>source_overlaps</th>\n",
       "    </tr>\n",
       "  </thead>\n",
       "  <tbody>\n",
       "    <tr>\n",
       "      <th>0</th>\n",
       "      <td>fn_starts_with_digit</td>\n",
       "      <td>p</td>\n",
       "      <td>16</td>\n",
       "      <td>0</td>\n",
       "      <td>0</td>\n",
       "    </tr>\n",
       "    <tr>\n",
       "      <th>1</th>\n",
       "      <td>fn_starts_with_digit</td>\n",
       "      <td>clickbait</td>\n",
       "      <td>8</td>\n",
       "      <td>0</td>\n",
       "      <td>0</td>\n",
       "    </tr>\n",
       "  </tbody>\n",
       "</table>\n",
       "</div>"
      ],
      "text/plain": [
       "             identifier label_name  record_coverage  source_conflicts  \\\n",
       "0  fn_starts_with_digit          p               16                 0   \n",
       "1  fn_starts_with_digit  clickbait                8                 0   \n",
       "\n",
       "   source_overlaps  \n",
       "0                0  \n",
       "1                0  "
      ]
     },
     "execution_count": 10,
     "metadata": {},
     "output_type": "execute_result"
    }
   ],
   "source": [
    "cnlm.quantity_metrics()"
   ]
  },
  {
   "cell_type": "code",
   "execution_count": 11,
   "id": "5bac1827",
   "metadata": {},
   "outputs": [
    {
     "data": {
      "text/html": [
       "<div>\n",
       "<style scoped>\n",
       "    .dataframe tbody tr th:only-of-type {\n",
       "        vertical-align: middle;\n",
       "    }\n",
       "\n",
       "    .dataframe tbody tr th {\n",
       "        vertical-align: top;\n",
       "    }\n",
       "\n",
       "    .dataframe thead th {\n",
       "        text-align: right;\n",
       "    }\n",
       "</style>\n",
       "<table border=\"1\" class=\"dataframe\">\n",
       "  <thead>\n",
       "    <tr style=\"text-align: right;\">\n",
       "      <th></th>\n",
       "      <th>identifier</th>\n",
       "      <th>label_name</th>\n",
       "      <th>true_positives</th>\n",
       "      <th>false_positives</th>\n",
       "      <th>precision</th>\n",
       "    </tr>\n",
       "  </thead>\n",
       "  <tbody>\n",
       "    <tr>\n",
       "      <th>0</th>\n",
       "      <td>fn_starts_with_digit</td>\n",
       "      <td>p</td>\n",
       "      <td>0</td>\n",
       "      <td>1</td>\n",
       "      <td>0.0</td>\n",
       "    </tr>\n",
       "    <tr>\n",
       "      <th>1</th>\n",
       "      <td>fn_starts_with_digit</td>\n",
       "      <td>clickbait</td>\n",
       "      <td>1</td>\n",
       "      <td>1</td>\n",
       "      <td>0.5</td>\n",
       "    </tr>\n",
       "  </tbody>\n",
       "</table>\n",
       "</div>"
      ],
      "text/plain": [
       "             identifier label_name  true_positives  false_positives  precision\n",
       "0  fn_starts_with_digit          p               0                1        0.0\n",
       "1  fn_starts_with_digit  clickbait               1                1        0.5"
      ]
     },
     "execution_count": 11,
     "metadata": {},
     "output_type": "execute_result"
    }
   ],
   "source": [
    "cnlm.quality_metrics()"
   ]
  },
  {
   "cell_type": "code",
   "execution_count": 12,
   "id": "bf0fa6cd",
   "metadata": {},
   "outputs": [
    {
     "data": {
      "text/plain": [
       "record\n",
       "1                                None\n",
       "7     [clickbait, 0.3775406687981454]\n",
       "10    [clickbait, 0.3775406687981454]\n",
       "12    [clickbait, 0.3775406687981454]\n",
       "15                               None\n",
       "21                               None\n",
       "28    [clickbait, 0.3775406687981454]\n",
       "35                               None\n",
       "37                               None\n",
       "38    [clickbait, 0.3775406687981454]\n",
       "41    [clickbait, 0.3775406687981454]\n",
       "47                               None\n",
       "51                               None\n",
       "52    [clickbait, 0.3775406687981454]\n",
       "54                               None\n",
       "57                               None\n",
       "58                               None\n",
       "66                               None\n",
       "69                               None\n",
       "73    [clickbait, 0.3775406687981454]\n",
       "74                               None\n",
       "80                               None\n",
       "83                               None\n",
       "95                               None\n",
       "dtype: object"
      ]
     },
     "execution_count": 12,
     "metadata": {},
     "output_type": "execute_result"
    }
   ],
   "source": [
    "cnlm.weakly_supervise()"
   ]
  }
 ],
 "metadata": {
  "kernelspec": {
   "display_name": "Python 3 (ipykernel)",
   "language": "python",
   "name": "python3"
  },
  "language_info": {
   "codemirror_mode": {
    "name": "ipython",
    "version": 3
   },
   "file_extension": ".py",
   "mimetype": "text/x-python",
   "name": "python",
   "nbconvert_exporter": "python",
   "pygments_lexer": "ipython3",
   "version": "3.9.7"
  }
 },
 "nbformat": 4,
 "nbformat_minor": 5
}
