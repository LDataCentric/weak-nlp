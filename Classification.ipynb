{
 "cells": [
  {
   "cell_type": "code",
   "execution_count": null,
   "id": "69ebee61",
   "metadata": {},
   "outputs": [],
   "source": [
    "import pandas as pd\n",
    "from weak_nlp.classification.util import cnlm_from_df\n",
    "from weak_nlp.classification import CNLM"
   ]
  },
  {
   "cell_type": "code",
   "execution_count": null,
   "id": "b94b475b",
   "metadata": {},
   "outputs": [],
   "source": [
    "df = pd.read_json(\"clickbait_data.json\")"
   ]
  },
  {
   "cell_type": "code",
   "execution_count": null,
   "id": "9b079966",
   "metadata": {},
   "outputs": [],
   "source": [
    "import re\n",
    "\n",
    "def fn_starts_with_digit(record):\n",
    "    if re.match(\"^[0-1]+\", record[\"headline\"]):\n",
    "        return \"clickbait\"\n",
    "    if re.match(\"^[2-9]+\", record[\"headline\"]):\n",
    "        return \"regular\"\n",
    "    \n",
    "    \n",
    "def leo(record):\n",
    "    if \"leonardo\" in record[\"headline\"].lower():\n",
    "        return \"test\"\n",
    "    \n",
    "def fn_something(record):\n",
    "    if \"x\" in record[\"headline\"].lower():\n",
    "        return \"clickbait\"\n",
    "\n",
    "lfs = [fn_starts_with_digit, leo, fn_something]\n",
    "for lf in lfs:\n",
    "    df[lf.__name__] = df.apply(lf, axis=1)"
   ]
  },
  {
   "cell_type": "code",
   "execution_count": null,
   "id": "62e3b770",
   "metadata": {},
   "outputs": [],
   "source": [
    "source_vectors = cnlm_from_df(df, lfs, \"label\")\n",
    "cnlm = CNLM(source_vectors, calc_quantity=False, calc_quality=False)\n",
    "cnlm.get_stats_df()"
   ]
  },
  {
   "cell_type": "code",
   "execution_count": null,
   "id": "3e265336",
   "metadata": {},
   "outputs": [],
   "source": [
    "cnlm.weakly_supervise()"
   ]
  }
 ],
 "metadata": {
  "kernelspec": {
   "display_name": "Python 3 (ipykernel)",
   "language": "python",
   "name": "python3"
  },
  "language_info": {
   "codemirror_mode": {
    "name": "ipython",
    "version": 3
   },
   "file_extension": ".py",
   "mimetype": "text/x-python",
   "name": "python",
   "nbconvert_exporter": "python",
   "pygments_lexer": "ipython3",
   "version": "3.9.7"
  }
 },
 "nbformat": 4,
 "nbformat_minor": 5
}
