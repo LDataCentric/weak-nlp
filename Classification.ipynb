{
 "cells": [
  {
   "cell_type": "code",
   "execution_count": null,
   "id": "69ebee61",
   "metadata": {},
   "outputs": [],
   "source": [
    "import weak_nlp\n",
    "from weak_nlp.classification import *"
   ]
  },
  {
   "cell_type": "code",
   "execution_count": null,
   "id": "9b079966",
   "metadata": {},
   "outputs": [],
   "source": [
    "associations0 = [\n",
    "    ClassificationAssociation(\"r_1\", \"l_1\"),\n",
    "    ClassificationAssociation(\"r_2\", \"l_1\"),\n",
    "    ClassificationAssociation(\"r_3\", \"l_1\"),\n",
    "    ClassificationAssociation(\"r_4\", \"l_1\"),\n",
    "]\n",
    "\n",
    "associations1 = [\n",
    "    ClassificationAssociation(\"r_1\", \"l_1\"),\n",
    "    ClassificationAssociation(\"r_2\", \"l_1\"),\n",
    "    ClassificationAssociation(\"r_3\", \"l_1\"),\n",
    "    ClassificationAssociation(\"r_4\", \"l_1\"),\n",
    "]\n",
    "associations2 = [\n",
    "    ClassificationAssociation(\"r_1\", \"l_1\"),\n",
    "    ClassificationAssociation(\"r_2\", \"l_1\"),\n",
    "    ClassificationAssociation(\"r_3\", \"l_1\"),\n",
    "    ClassificationAssociation(\"r_4\", \"l_1\"),\n",
    "]"
   ]
  },
  {
   "cell_type": "code",
   "execution_count": null,
   "id": "62e3b770",
   "metadata": {},
   "outputs": [],
   "source": [
    "vector0 = weak_nlp.SourceVector(\"my_lf_0\", False, associations0)\n",
    "vector1 = weak_nlp.SourceVector(\"my_lf_1\", False, associations1)\n",
    "vector2 = weak_nlp.SourceVector(\"manual\", True, associations2)"
   ]
  },
  {
   "cell_type": "code",
   "execution_count": null,
   "id": "dcea4df5",
   "metadata": {},
   "outputs": [],
   "source": [
    "cnlm = CNLM([vector0, vector1, vector2])"
   ]
  },
  {
   "cell_type": "code",
   "execution_count": null,
   "id": "5b63ae08",
   "metadata": {},
   "outputs": [],
   "source": [
    "cnlm.quantity_metrics()"
   ]
  },
  {
   "cell_type": "code",
   "execution_count": null,
   "id": "113abc88",
   "metadata": {},
   "outputs": [],
   "source": [
    "cnlm.quality_metrics()"
   ]
  },
  {
   "cell_type": "code",
   "execution_count": null,
   "id": "3fff7722",
   "metadata": {},
   "outputs": [],
   "source": [
    "cnlm.weakly_supervise()"
   ]
  }
 ],
 "metadata": {
  "kernelspec": {
   "display_name": "Python 3 (ipykernel)",
   "language": "python",
   "name": "python3"
  },
  "language_info": {
   "codemirror_mode": {
    "name": "ipython",
    "version": 3
   },
   "file_extension": ".py",
   "mimetype": "text/x-python",
   "name": "python",
   "nbconvert_exporter": "python",
   "pygments_lexer": "ipython3",
   "version": "3.10.4"
  }
 },
 "nbformat": 4,
 "nbformat_minor": 5
}
